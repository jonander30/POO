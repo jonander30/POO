{
  "nbformat": 4,
  "nbformat_minor": 0,
  "metadata": {
    "colab": {
      "provenance": []
    },
    "kernelspec": {
      "name": "python3",
      "display_name": "Python 3"
    },
    "language_info": {
      "name": "python"
    }
  },
  "cells": [
    {
      "cell_type": "code",
      "execution_count": null,
      "metadata": {
        "id": "DfQdtStrraXK"
      },
      "outputs": [],
      "source": []
    },
    {
      "cell_type": "markdown",
      "source": [
        "##Listas e ingresos a listas\n",
        "range(a,b)\n",
        "a>=0\n",
        "\n",
        "b>=0\n",
        "\n",
        "y los 2 son numeros enteros y a<b\n",
        "$a\\geq0$\n",
        "$a\\le b$"
      ],
      "metadata": {
        "id": "zAuFbj4csHum"
      }
    },
    {
      "cell_type": "code",
      "source": [
        "range (10)\n",
        "type (range(10))"
      ],
      "metadata": {
        "colab": {
          "base_uri": "https://localhost:8080/"
        },
        "id": "eqfkhVpCyGS5",
        "outputId": "69c784ac-c184-422b-d253-0e64eff66934"
      },
      "execution_count": 1,
      "outputs": [
        {
          "output_type": "execute_result",
          "data": {
            "text/plain": [
              "range"
            ]
          },
          "metadata": {},
          "execution_count": 1
        }
      ]
    },
    {
      "cell_type": "code",
      "source": [
        "for i in range(10):\n",
        "  print(i)"
      ],
      "metadata": {
        "colab": {
          "base_uri": "https://localhost:8080/"
        },
        "id": "NsbG2Pjpyn6t",
        "outputId": "23b332bb-c321-4c56-cefe-4fb12ffe5f9c"
      },
      "execution_count": 2,
      "outputs": [
        {
          "output_type": "stream",
          "name": "stdout",
          "text": [
            "0\n",
            "1\n",
            "2\n",
            "3\n",
            "4\n",
            "5\n",
            "6\n",
            "7\n",
            "8\n",
            "9\n"
          ]
        }
      ]
    },
    {
      "cell_type": "markdown",
      "source": [
        "lista=list(Pares)"
      ],
      "metadata": {
        "id": "ed3AF_lc0m6w"
      }
    },
    {
      "cell_type": "code",
      "source": [
        "x=7\n",
        "str(x)"
      ],
      "metadata": {
        "colab": {
          "base_uri": "https://localhost:8080/",
          "height": 35
        },
        "id": "w-F_8p_K0uWi",
        "outputId": "c7592987-1d0e-4ce4-93df-2313f9aa28c7"
      },
      "execution_count": 3,
      "outputs": [
        {
          "output_type": "execute_result",
          "data": {
            "text/plain": [
              "'7'"
            ],
            "application/vnd.google.colaboratory.intrinsic+json": {
              "type": "string"
            }
          },
          "metadata": {},
          "execution_count": 3
        }
      ]
    },
    {
      "cell_type": "code",
      "source": [
        "y=\"7\"\n",
        "int(y)"
      ],
      "metadata": {
        "colab": {
          "base_uri": "https://localhost:8080/"
        },
        "id": "RXGVD-dB1n59",
        "outputId": "1e7ae23d-6b61-46fd-9b44-94b9ebc962f9"
      },
      "execution_count": 4,
      "outputs": [
        {
          "output_type": "execute_result",
          "data": {
            "text/plain": [
              "7"
            ]
          },
          "metadata": {},
          "execution_count": 4
        }
      ]
    },
    {
      "cell_type": "markdown",
      "source": [
        "No se puede poner un string a int si no es caracter numerico\n",
        "\n",
        "\n"
      ],
      "metadata": {
        "id": "Yc2CvDdQ1xjK"
      }
    },
    {
      "cell_type": "markdown",
      "source": [
        "Si $A$ es un conjunto, sea $a\\in$ $A$"
      ],
      "metadata": {
        "id": "Zb8QATFX_l7Z"
      }
    },
    {
      "cell_type": "code",
      "source": [
        "Indices=[i for i in range(0,21)]\n",
        "Indices"
      ],
      "metadata": {
        "colab": {
          "base_uri": "https://localhost:8080/"
        },
        "id": "eAj7XM75-6w6",
        "outputId": "89a037c9-396c-48d3-89f5-58c6d641f06c"
      },
      "execution_count": 8,
      "outputs": [
        {
          "output_type": "execute_result",
          "data": {
            "text/plain": [
              "[0, 1, 2, 3, 4, 5, 6, 7, 8, 9, 10, 11, 12, 13, 14, 15, 16, 17, 18, 19, 20]"
            ]
          },
          "metadata": {},
          "execution_count": 8
        }
      ]
    },
    {
      "cell_type": "code",
      "source": [
        "Multiplos_3= [i for i in range(0,21) if i%3==0]\n",
        "Multiplos_3"
      ],
      "metadata": {
        "colab": {
          "base_uri": "https://localhost:8080/"
        },
        "id": "UnzjS2e1BQze",
        "outputId": "701384e0-220d-4147-a943-c2bd4a85bca2"
      },
      "execution_count": 10,
      "outputs": [
        {
          "output_type": "execute_result",
          "data": {
            "text/plain": [
              "[0, 3, 6, 9, 12, 15, 18]"
            ]
          },
          "metadata": {},
          "execution_count": 10
        }
      ]
    },
    {
      "cell_type": "code",
      "source": [
        "#Se pone print f porque es el formato para llamar a la variable\n",
        "Indices=[i for i in range(0,21)]\n",
        "print(f\"Etiquetas: {Indices}\")\n",
        "Multiplos_3=[i for i in Indices if i%3==0]\n",
        "print(f\"Multiplos: {Multiplos_3}\")\n"
      ],
      "metadata": {
        "colab": {
          "base_uri": "https://localhost:8080/"
        },
        "id": "oSgZwem4CkT4",
        "outputId": "cf89dc1e-1632-4cdd-feda-eeac509b0a74"
      },
      "execution_count": 11,
      "outputs": [
        {
          "output_type": "stream",
          "name": "stdout",
          "text": [
            "Etiquetas: [0, 1, 2, 3, 4, 5, 6, 7, 8, 9, 10, 11, 12, 13, 14, 15, 16, 17, 18, 19, 20]\n",
            "Multiplos: [0, 3, 6, 9, 12, 15, 18]\n"
          ]
        }
      ]
    },
    {
      "cell_type": "markdown",
      "source": [
        "##Ingresos"
      ],
      "metadata": {
        "id": "3oVx6BkWEzQ-"
      }
    },
    {
      "cell_type": "code",
      "source": [
        "Ceci =[]\n",
        "Ceci.append(18)"
      ],
      "metadata": {
        "id": "ysCjYWR-E2jr"
      },
      "execution_count": 18,
      "outputs": []
    },
    {
      "cell_type": "code",
      "source": [
        "Ceci.insert(1, \"Violin\")"
      ],
      "metadata": {
        "id": "QTz_-FDcGBJE"
      },
      "execution_count": 20,
      "outputs": []
    },
    {
      "cell_type": "code",
      "source": [
        "Ceci"
      ],
      "metadata": {
        "colab": {
          "base_uri": "https://localhost:8080/"
        },
        "id": "tYP6kHMxG4VM",
        "outputId": "cc75c760-3fcd-4de9-c78d-72837e829ebe"
      },
      "execution_count": 21,
      "outputs": [
        {
          "output_type": "execute_result",
          "data": {
            "text/plain": [
              "[18, 'Violin']"
            ]
          },
          "metadata": {},
          "execution_count": 21
        }
      ]
    },
    {
      "cell_type": "code",
      "source": [
        "Ceci.append(1.62)\n"
      ],
      "metadata": {
        "id": "jEIetkfIHQoa"
      },
      "execution_count": 22,
      "outputs": []
    },
    {
      "cell_type": "code",
      "source": [
        "Ceci"
      ],
      "metadata": {
        "colab": {
          "base_uri": "https://localhost:8080/"
        },
        "id": "mW5NEU4zHU0p",
        "outputId": "a4d80794-82fe-4048-8be8-21c4dac51719"
      },
      "execution_count": 23,
      "outputs": [
        {
          "output_type": "execute_result",
          "data": {
            "text/plain": [
              "[18, 'Violin', 1.62]"
            ]
          },
          "metadata": {},
          "execution_count": 23
        }
      ]
    },
    {
      "cell_type": "code",
      "source": [
        "Ceci.insert(4,\"perro\")"
      ],
      "metadata": {
        "id": "S5UXQwnUJzSO"
      },
      "execution_count": 27,
      "outputs": []
    },
    {
      "cell_type": "code",
      "source": [
        "Ceci"
      ],
      "metadata": {
        "colab": {
          "base_uri": "https://localhost:8080/"
        },
        "id": "GI69qrmwJ4gY",
        "outputId": "939b3557-5b81-41ed-d16d-99ff00029145"
      },
      "execution_count": 28,
      "outputs": [
        {
          "output_type": "execute_result",
          "data": {
            "text/plain": [
              "[18, 'Violin', 1.62, 'perro']"
            ]
          },
          "metadata": {},
          "execution_count": 28
        }
      ]
    },
    {
      "cell_type": "code",
      "source": [
        "Ceci[0]"
      ],
      "metadata": {
        "colab": {
          "base_uri": "https://localhost:8080/"
        },
        "id": "kS_Wn3aPJ8rE",
        "outputId": "4c05093f-b6df-4237-cd53-e3a18792f707"
      },
      "execution_count": 29,
      "outputs": [
        {
          "output_type": "execute_result",
          "data": {
            "text/plain": [
              "18"
            ]
          },
          "metadata": {},
          "execution_count": 29
        }
      ]
    },
    {
      "cell_type": "code",
      "source": [
        "Ceci[0:2]"
      ],
      "metadata": {
        "colab": {
          "base_uri": "https://localhost:8080/"
        },
        "id": "ug9LvV8iMk-v",
        "outputId": "4b048df3-af7a-4088-f158-f114bf302149"
      },
      "execution_count": 32,
      "outputs": [
        {
          "output_type": "execute_result",
          "data": {
            "text/plain": [
              "[18, 'Violin']"
            ]
          },
          "metadata": {},
          "execution_count": 32
        }
      ]
    },
    {
      "cell_type": "code",
      "source": [
        "Indices[0::3]"
      ],
      "metadata": {
        "colab": {
          "base_uri": "https://localhost:8080/"
        },
        "id": "aJY9RfEGNmiT",
        "outputId": "6bdd6b2e-d78c-4431-9863-2fe11878c8f2"
      },
      "execution_count": 33,
      "outputs": [
        {
          "output_type": "execute_result",
          "data": {
            "text/plain": [
              "[0, 3, 6, 9, 12, 15, 18]"
            ]
          },
          "metadata": {},
          "execution_count": 33
        }
      ]
    }
  ]
}