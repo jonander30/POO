{
  "nbformat": 4,
  "nbformat_minor": 0,
  "metadata": {
    "colab": {
      "provenance": []
    },
    "kernelspec": {
      "name": "python3",
      "display_name": "Python 3"
    },
    "language_info": {
      "name": "python"
    }
  },
  "cells": [
    {
      "cell_type": "markdown",
      "source": [
        "#Arreglos y clases\n",
        "##Matrices\n",
        "\n",
        "una matriz es un arreglo de mxn elementos"
      ],
      "metadata": {
        "id": "SL8DRpDDvbn2"
      }
    },
    {
      "cell_type": "markdown",
      "source": [
        "\\begin{bmatrix}\n",
        "a_{11} & a_{12} & \\cdots & a_{1n} \\\\\n",
        "a_{21} & a_{22} & \\cdots & a_{2n} \\\\\n",
        "\\vdots & \\vdots & \\ddots & \\vdots \\\\\n",
        "a_{m1} & a_{m2} & \\cdots & a_{mn}\n",
        "\\end{bmatrix}\n"
      ],
      "metadata": {
        "id": "7u6OvC0SwPcT"
      }
    },
    {
      "cell_type": "code",
      "source": [
        "A=[[1,2,3],[4,5,6],[7,8,9]]\n",
        "print (A)\n",
        "type (A)"
      ],
      "metadata": {
        "colab": {
          "base_uri": "https://localhost:8080/"
        },
        "id": "3XKDhjjTxe9b",
        "outputId": "de19c603-ff1c-415a-be74-4082dbb9a9e1"
      },
      "execution_count": 1,
      "outputs": [
        {
          "output_type": "stream",
          "name": "stdout",
          "text": [
            "[[1, 2, 3], [4, 5, 6], [7, 8, 9]]\n"
          ]
        },
        {
          "output_type": "execute_result",
          "data": {
            "text/plain": [
              "list"
            ]
          },
          "metadata": {},
          "execution_count": 1
        }
      ]
    },
    {
      "cell_type": "code",
      "source": [
        "B=[[21,34,40],[71,17,77],[73,81,28]]\n",
        "print (A+B)"
      ],
      "metadata": {
        "colab": {
          "base_uri": "https://localhost:8080/"
        },
        "id": "9-JZOikNyNGG",
        "outputId": "e0b18a88-aef3-4342-f375-a5ee6a347655"
      },
      "execution_count": 2,
      "outputs": [
        {
          "output_type": "stream",
          "name": "stdout",
          "text": [
            "[[1, 2, 3], [4, 5, 6], [7, 8, 9], [21, 34, 40], [71, 17, 77], [73, 81, 28]]\n"
          ]
        }
      ]
    },
    {
      "cell_type": "code",
      "source": [
        "2*A"
      ],
      "metadata": {
        "colab": {
          "base_uri": "https://localhost:8080/"
        },
        "id": "MMqWrWLb0G0b",
        "outputId": "b56165bd-9b3c-4a22-e28f-ed6056f0dc31"
      },
      "execution_count": 3,
      "outputs": [
        {
          "output_type": "execute_result",
          "data": {
            "text/plain": [
              "[[1, 2, 3], [4, 5, 6], [7, 8, 9], [1, 2, 3], [4, 5, 6], [7, 8, 9]]"
            ]
          },
          "metadata": {},
          "execution_count": 3
        }
      ]
    },
    {
      "cell_type": "code",
      "source": [
        "A[0][0]"
      ],
      "metadata": {
        "colab": {
          "base_uri": "https://localhost:8080/"
        },
        "id": "Rcghw-Xt0bsp",
        "outputId": "3a5e5124-5399-49bf-81f1-3329b554051c"
      },
      "execution_count": 4,
      "outputs": [
        {
          "output_type": "execute_result",
          "data": {
            "text/plain": [
              "1"
            ]
          },
          "metadata": {},
          "execution_count": 4
        }
      ]
    },
    {
      "cell_type": "markdown",
      "source": [
        "##vetores y listas"
      ],
      "metadata": {
        "id": "wq4lHVgh1QoO"
      }
    },
    {
      "cell_type": "code",
      "source": [
        "L=A[0]\n",
        "M=B[0]\n",
        "L+M"
      ],
      "metadata": {
        "colab": {
          "base_uri": "https://localhost:8080/"
        },
        "id": "xHCpjddA1QRj",
        "outputId": "44fc1e7b-a0dc-4e57-8742-63c85a2357c1"
      },
      "execution_count": 7,
      "outputs": [
        {
          "output_type": "execute_result",
          "data": {
            "text/plain": [
              "[1, 2, 3, 21, 34, 40]"
            ]
          },
          "metadata": {},
          "execution_count": 7
        }
      ]
    },
    {
      "cell_type": "code",
      "source": [
        "a=L[0]\n",
        "b=M[0]\n",
        "a+b"
      ],
      "metadata": {
        "colab": {
          "base_uri": "https://localhost:8080/"
        },
        "id": "maUYd7j82DJ2",
        "outputId": "ac66ceb6-e83e-4619-f7f0-65cf4db531d6"
      },
      "execution_count": 8,
      "outputs": [
        {
          "output_type": "execute_result",
          "data": {
            "text/plain": [
              "22"
            ]
          },
          "metadata": {},
          "execution_count": 8
        }
      ]
    },
    {
      "cell_type": "code",
      "source": [
        "a==1"
      ],
      "metadata": {
        "colab": {
          "base_uri": "https://localhost:8080/"
        },
        "id": "QJXp1X5K2cjr",
        "outputId": "ad71eba2-047d-4d02-e2f5-6addcba7d36e"
      },
      "execution_count": 9,
      "outputs": [
        {
          "output_type": "execute_result",
          "data": {
            "text/plain": [
              "True"
            ]
          },
          "metadata": {},
          "execution_count": 9
        }
      ]
    },
    {
      "cell_type": "markdown",
      "source": [
        "### Suma de vectores"
      ],
      "metadata": {
        "id": "tEcnFbTE3_B5"
      }
    },
    {
      "cell_type": "code",
      "source": [
        "len(L)==len(M)"
      ],
      "metadata": {
        "colab": {
          "base_uri": "https://localhost:8080/"
        },
        "id": "P2h1GaQ04DBH",
        "outputId": "f8300e82-d192-4c59-d86f-8c65c0e37901"
      },
      "execution_count": 10,
      "outputs": [
        {
          "output_type": "execute_result",
          "data": {
            "text/plain": [
              "True"
            ]
          },
          "metadata": {},
          "execution_count": 10
        }
      ]
    },
    {
      "cell_type": "code",
      "source": [
        "suma=[L[0]+M[0],L[1]+M[1],L[2]+M[2]]\n",
        "suma"
      ],
      "metadata": {
        "colab": {
          "base_uri": "https://localhost:8080/"
        },
        "id": "K5B6VRhd4jYu",
        "outputId": "cadc64d8-17c9-4a1b-e8f8-dd4470c0e8ec"
      },
      "execution_count": 12,
      "outputs": [
        {
          "output_type": "execute_result",
          "data": {
            "text/plain": [
              "[22, 36, 43]"
            ]
          },
          "metadata": {},
          "execution_count": 12
        }
      ]
    },
    {
      "cell_type": "code",
      "source": [
        "suma=[L[i]+M[i] for i in range(3)]\n",
        "suma"
      ],
      "metadata": {
        "colab": {
          "base_uri": "https://localhost:8080/"
        },
        "id": "c8G6BKSH5dTi",
        "outputId": "adb848da-d60f-4191-e92e-8387435e8470"
      },
      "execution_count": 14,
      "outputs": [
        {
          "output_type": "execute_result",
          "data": {
            "text/plain": [
              "[22, 36, 43]"
            ]
          },
          "metadata": {},
          "execution_count": 14
        }
      ]
    },
    {
      "cell_type": "markdown",
      "source": [
        "###Creacion de funciones globales\n",
        "La funcion para crear funciones es `def`que se cierra con un debug (`print`o `return`)"
      ],
      "metadata": {
        "id": "7kMFNVo2EJnd"
      }
    },
    {
      "cell_type": "code",
      "source": [
        "def Hola():\n",
        "  print (\"Hola, me llamo Jon\")"
      ],
      "metadata": {
        "id": "sPFJ4pV5Ey6d"
      },
      "execution_count": 15,
      "outputs": []
    },
    {
      "cell_type": "code",
      "source": [
        "Hola()"
      ],
      "metadata": {
        "colab": {
          "base_uri": "https://localhost:8080/"
        },
        "id": "MyDyf7y1FDkp",
        "outputId": "f4f33e27-6465-4bb8-b8d3-b14d447447f4"
      },
      "execution_count": 16,
      "outputs": [
        {
          "output_type": "stream",
          "name": "stdout",
          "text": [
            "Hola, me llamo Jon\n"
          ]
        }
      ]
    },
    {
      "cell_type": "code",
      "source": [
        "def Saludar(s,n):\n",
        "  print (f\"Hola me llamo {s} y tengo {n} años \")"
      ],
      "metadata": {
        "id": "SCmB7AP3Ga2X"
      },
      "execution_count": 19,
      "outputs": []
    },
    {
      "cell_type": "code",
      "source": [
        "Saludar (\"Jon\", 18)"
      ],
      "metadata": {
        "colab": {
          "base_uri": "https://localhost:8080/"
        },
        "id": "LBojc-pqGqiA",
        "outputId": "baff43f1-11eb-48c3-aa52-fa90c98d8b3f"
      },
      "execution_count": 20,
      "outputs": [
        {
          "output_type": "stream",
          "name": "stdout",
          "text": [
            "Hola me llamo Jon y tengo 18 años \n"
          ]
        }
      ]
    },
    {
      "cell_type": "code",
      "source": [
        "def par(x):\n",
        "  for x in range (10):\n",
        "    if x%2==0:\n",
        "      print (f\"{x} es par\")\n",
        "    else:\n",
        "      print (f\"{x} es impar\")"
      ],
      "metadata": {
        "id": "XdaxQnqcHRwd"
      },
      "execution_count": 25,
      "outputs": []
    },
    {
      "cell_type": "code",
      "source": [
        "par(6)"
      ],
      "metadata": {
        "colab": {
          "base_uri": "https://localhost:8080/"
        },
        "id": "WnlE21_jIyYW",
        "outputId": "1ccad904-62b6-4c61-9fec-3f80c323e7bd"
      },
      "execution_count": 26,
      "outputs": [
        {
          "output_type": "stream",
          "name": "stdout",
          "text": [
            "0 es par\n",
            "1 es impar\n",
            "2 es par\n",
            "3 es impar\n",
            "4 es par\n",
            "5 es impar\n",
            "6 es par\n",
            "7 es impar\n",
            "8 es par\n",
            "9 es impar\n"
          ]
        }
      ]
    },
    {
      "cell_type": "code",
      "source": [
        "def suma_vectorial (L,M):\n",
        "  x=[L[i]+M[i] for i in range(3)]\n",
        "  return x"
      ],
      "metadata": {
        "id": "yXxbbhPWLODw"
      },
      "execution_count": 27,
      "outputs": []
    },
    {
      "cell_type": "code",
      "source": [
        "L=[1,2,3]\n",
        "M=[21,34,40]\n",
        "suma_vectorial (L,M)"
      ],
      "metadata": {
        "colab": {
          "base_uri": "https://localhost:8080/"
        },
        "id": "cCizn9HTL8uP",
        "outputId": "a7881b9e-0756-4bc0-df42-8cb4f89f4127"
      },
      "execution_count": 28,
      "outputs": [
        {
          "output_type": "execute_result",
          "data": {
            "text/plain": [
              "[22, 36, 43]"
            ]
          },
          "metadata": {},
          "execution_count": 28
        }
      ]
    },
    {
      "cell_type": "markdown",
      "source": [
        "## Modulo o librerias"
      ],
      "metadata": {
        "id": "hKf3veGGMu4W"
      }
    },
    {
      "cell_type": "code",
      "source": [
        "import math\n",
        "from math import *"
      ],
      "metadata": {
        "id": "yein0YTMM82m"
      },
      "execution_count": 29,
      "outputs": []
    },
    {
      "cell_type": "code",
      "source": [
        "sqrt(68)"
      ],
      "metadata": {
        "colab": {
          "base_uri": "https://localhost:8080/"
        },
        "id": "g4N0go36OE1P",
        "outputId": "4deaf0bc-455a-43ea-f09c-b5655c20edd3"
      },
      "execution_count": 30,
      "outputs": [
        {
          "output_type": "execute_result",
          "data": {
            "text/plain": [
              "8.246211251235321"
            ]
          },
          "metadata": {},
          "execution_count": 30
        }
      ]
    },
    {
      "cell_type": "code",
      "source": [
        "pi"
      ],
      "metadata": {
        "colab": {
          "base_uri": "https://localhost:8080/"
        },
        "id": "HIyj5pE5OSTv",
        "outputId": "c152b4e6-e1a7-4bbf-87f1-fa530ff6762a"
      },
      "execution_count": 31,
      "outputs": [
        {
          "output_type": "execute_result",
          "data": {
            "text/plain": [
              "3.141592653589793"
            ]
          },
          "metadata": {},
          "execution_count": 31
        }
      ]
    },
    {
      "cell_type": "markdown",
      "source": [
        "#El modulo NumPy\n",
        "La funcion `array`"
      ],
      "metadata": {
        "id": "Su1Fih27Optq"
      }
    },
    {
      "cell_type": "code",
      "source": [
        "import numpy as np\n",
        "L_vector=np.array(L)\n",
        "M_vector=np.array(M)\n",
        "\n",
        "L_vector+M_vector"
      ],
      "metadata": {
        "colab": {
          "base_uri": "https://localhost:8080/"
        },
        "id": "6Tzuz25dPLGF",
        "outputId": "9f3380e1-567b-4676-a77f-8cf72421c6da"
      },
      "execution_count": 32,
      "outputs": [
        {
          "output_type": "execute_result",
          "data": {
            "text/plain": [
              "array([22, 36, 43])"
            ]
          },
          "metadata": {},
          "execution_count": 32
        }
      ]
    },
    {
      "cell_type": "code",
      "source": [
        "C=[ 9,2,2,2,3,3,2,17,2]\n",
        "A=[8,1,1,1,2,2,1,16,1]\n",
        "\n",
        "C_matriz=np.array(C).reshape(3,3)\n",
        "A_matriz=np.array(A).reshape(3,3)\n",
        "\n",
        "print(C_matriz)\n",
        "print(A_matriz)"
      ],
      "metadata": {
        "colab": {
          "base_uri": "https://localhost:8080/"
        },
        "id": "fh0RmyrBP9r0",
        "outputId": "6e5a0580-60aa-4791-9476-4b129faff537"
      },
      "execution_count": 33,
      "outputs": [
        {
          "output_type": "stream",
          "name": "stdout",
          "text": [
            "[[ 9  2  2]\n",
            " [ 2  3  3]\n",
            " [ 2 17  2]]\n",
            "[[ 8  1  1]\n",
            " [ 1  2  2]\n",
            " [ 1 16  1]]\n"
          ]
        }
      ]
    },
    {
      "cell_type": "code",
      "source": [
        "C_matriz @ A_matriz"
      ],
      "metadata": {
        "colab": {
          "base_uri": "https://localhost:8080/"
        },
        "id": "Hi5WqJ_rRBHk",
        "outputId": "3c6883ad-fdd2-44c0-fe57-d91d52d1b743"
      },
      "execution_count": 34,
      "outputs": [
        {
          "output_type": "execute_result",
          "data": {
            "text/plain": [
              "array([[76, 45, 15],\n",
              "       [22, 56, 11],\n",
              "       [35, 68, 38]])"
            ]
          },
          "metadata": {},
          "execution_count": 34
        }
      ]
    }
  ]
}