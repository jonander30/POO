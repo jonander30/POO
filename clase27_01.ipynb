{
  "nbformat": 4,
  "nbformat_minor": 0,
  "metadata": {
    "colab": {
      "provenance": []
    },
    "kernelspec": {
      "name": "python3",
      "display_name": "Python 3"
    },
    "language_info": {
      "name": "python"
    }
  },
  "cells": [
    {
      "cell_type": "markdown",
      "source": [
        "#Conjuntos y listas\n",
        "- Conjuntos finitos:\n",
        "$$\\{ o_1, o_2, \\dots, o_n \\}$$\n",
        "- Listas finitas\n",
        "$$[l_1, l_2,\\dots, l_n]$$"
      ],
      "metadata": {
        "id": "5sMh1fEscfwO"
      }
    },
    {
      "cell_type": "markdown",
      "source": [
        "En Python existe la función  range(a,b) donde $a,b\\geq 0$"
      ],
      "metadata": {
        "id": "5AdE6lNHeff6"
      }
    },
    {
      "cell_type": "code",
      "source": [
        "range(10)"
      ],
      "metadata": {
        "colab": {
          "base_uri": "https://localhost:8080/"
        },
        "id": "27jkclxufQlt",
        "outputId": "780c7947-e6f7-4195-cf98-4bd894046029"
      },
      "execution_count": 1,
      "outputs": [
        {
          "output_type": "execute_result",
          "data": {
            "text/plain": [
              "range(0, 10)"
            ]
          },
          "metadata": {},
          "execution_count": 1
        }
      ]
    },
    {
      "cell_type": "code",
      "execution_count": 2,
      "metadata": {
        "colab": {
          "base_uri": "https://localhost:8080/"
        },
        "id": "Yf5kRJpdbdQT",
        "outputId": "342e4eb4-4a41-4371-bab2-2cbdbab28679"
      },
      "outputs": [
        {
          "output_type": "stream",
          "name": "stdout",
          "text": [
            "0\n",
            "1\n",
            "2\n",
            "3\n",
            "4\n",
            "5\n",
            "6\n",
            "7\n",
            "8\n",
            "9\n"
          ]
        }
      ],
      "source": [
        "for i in range(10):\n",
        "    print(i)"
      ]
    },
    {
      "cell_type": "markdown",
      "source": [
        "¿Como puedo ver a los elementos de este generador de indices?"
      ],
      "metadata": {
        "id": "S50_CyG4foVf"
      }
    },
    {
      "cell_type": "code",
      "source": [
        "##Vamos a construir dos conjuntos\n",
        "Pares= { i for i in range (21) if i%2==0}\n",
        "Impares= { i for i in range (21) if i%2==1}\n",
        "print(f\"Pares:{Pares}\")\n",
        "print(f\"Impares: {Impares}\")\n",
        "\n"
      ],
      "metadata": {
        "colab": {
          "base_uri": "https://localhost:8080/"
        },
        "id": "3Rtz5XvYiPvu",
        "outputId": "42b7f46c-861c-4642-c6be-aaa6403b3ca5"
      },
      "execution_count": 3,
      "outputs": [
        {
          "output_type": "stream",
          "name": "stdout",
          "text": [
            "Pares:{0, 2, 4, 6, 8, 10, 12, 14, 16, 18, 20}\n",
            "Impares: {1, 3, 5, 7, 9, 11, 13, 15, 17, 19}\n"
          ]
        }
      ]
    },
    {
      "cell_type": "code",
      "source": [
        "C= {17, 8, 10, 8, 77, 56, 3, 53}\n",
        "C, type(C)\n"
      ],
      "metadata": {
        "colab": {
          "base_uri": "https://localhost:8080/"
        },
        "id": "1g-UKjjbjrU8",
        "outputId": "6508a002-2721-4d51-810d-4b59cebb5a21"
      },
      "execution_count": 7,
      "outputs": [
        {
          "output_type": "execute_result",
          "data": {
            "text/plain": [
              "({3, 8, 10, 17, 53, 56, 77}, set)"
            ]
          },
          "metadata": {},
          "execution_count": 7
        }
      ]
    },
    {
      "cell_type": "markdown",
      "source": [
        "Los objetos en Python tienen atributos"
      ],
      "metadata": {
        "id": "n8IF7bG0kJn_"
      }
    },
    {
      "cell_type": "code",
      "source": [
        "Pares.intersection(Impares) #conjunto vacio\n",
        "set()"
      ],
      "metadata": {
        "id": "4JPbw6e6kVwl"
      },
      "execution_count": null,
      "outputs": []
    },
    {
      "cell_type": "code",
      "source": [
        "Pares.union(Impares)"
      ],
      "metadata": {
        "colab": {
          "base_uri": "https://localhost:8080/"
        },
        "id": "AN1DZc8VkmPe",
        "outputId": "e5fb6938-846f-4c95-a1d3-707a2aa11fe7"
      },
      "execution_count": 4,
      "outputs": [
        {
          "output_type": "execute_result",
          "data": {
            "text/plain": [
              "{0, 1, 2, 3, 4, 5, 6, 7, 8, 9, 10, 11, 12, 13, 14, 15, 16, 17, 18, 19, 20}"
            ]
          },
          "metadata": {},
          "execution_count": 4
        }
      ]
    },
    {
      "cell_type": "code",
      "source": [
        "Impares.difference(C)"
      ],
      "metadata": {
        "colab": {
          "base_uri": "https://localhost:8080/"
        },
        "id": "aSgttr3HkxUY",
        "outputId": "844fb8cf-028a-49ef-d5fd-52cf0da48ce8"
      },
      "execution_count": 9,
      "outputs": [
        {
          "output_type": "execute_result",
          "data": {
            "text/plain": [
              "{1, 5, 7, 9, 11, 13, 15, 19}"
            ]
          },
          "metadata": {},
          "execution_count": 9
        }
      ]
    },
    {
      "cell_type": "markdown",
      "source": [
        "## Listas"
      ],
      "metadata": {
        "id": "BTZCfZfelu5P"
      }
    },
    {
      "cell_type": "code",
      "source": [
        "Listas_pares= list(Pares)\n",
        "Listas_pares"
      ],
      "metadata": {
        "colab": {
          "base_uri": "https://localhost:8080/"
        },
        "id": "64PHE0MNl5F1",
        "outputId": "03cf0120-0bfc-47c8-dc35-d91a445aae43"
      },
      "execution_count": 10,
      "outputs": [
        {
          "output_type": "execute_result",
          "data": {
            "text/plain": [
              "[0, 2, 4, 6, 8, 10, 12, 14, 16, 18, 20]"
            ]
          },
          "metadata": {},
          "execution_count": 10
        }
      ]
    },
    {
      "cell_type": "code",
      "source": [],
      "metadata": {
        "id": "JBy6WHN2mRDa"
      },
      "execution_count": null,
      "outputs": []
    }
  ]
}