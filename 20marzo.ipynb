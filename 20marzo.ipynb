{
  "nbformat": 4,
  "nbformat_minor": 0,
  "metadata": {
    "colab": {
      "provenance": []
    },
    "kernelspec": {
      "name": "python3",
      "display_name": "Python 3"
    },
    "language_info": {
      "name": "python"
    }
  },
  "cells": [
    {
      "cell_type": "markdown",
      "source": [
        "#Manejo de excepciones\n",
        "Las funciones a usar son\n",
        "```\n",
        "# try:\n",
        "    bloque de condicion\n",
        "  except:\n",
        "    bloque de excepciones\n",
        "```\n",
        "\n",
        "Vamos a usar una funcion que se llama `assert`."
      ],
      "metadata": {
        "id": "MzBiu0LnBCx_"
      }
    },
    {
      "cell_type": "code",
      "source": [
        "def division(a,b):\n",
        "  return a/b"
      ],
      "metadata": {
        "id": "yePi02FjB9pu"
      },
      "execution_count": null,
      "outputs": []
    },
    {
      "cell_type": "code",
      "source": [
        "a=5\n",
        "b=0\n",
        "try:\n",
        "  c=a/b\n",
        "except:\n",
        "  print(\"No se puede dividir por cero\")"
      ],
      "metadata": {
        "colab": {
          "base_uri": "https://localhost:8080/"
        },
        "id": "1efl4W0eCcGt",
        "outputId": "b283b923-1c49-4ef9-fc50-15a5ae8d25df"
      },
      "execution_count": null,
      "outputs": [
        {
          "output_type": "stream",
          "name": "stdout",
          "text": [
            "No se puede dividir por cero\n"
          ]
        }
      ]
    },
    {
      "cell_type": "code",
      "source": [
        "try:\n",
        "  d=2+\"Ceci\"\n",
        "  print(d)\n",
        "except:\n",
        "  print(\"No se puede sumar un entero con un string\")"
      ],
      "metadata": {
        "id": "xCUrEtPoD7Au"
      },
      "execution_count": null,
      "outputs": []
    },
    {
      "cell_type": "code",
      "source": [
        "def division(a,b):\n",
        "  try:\n",
        "    c=a/b\n",
        "    print(\"Resultado de la division:\", c)\n",
        "  except ZeroDivisionError:\n",
        "      print(\"No se puede dividir por cero\")\n",
        "  except TypeError:\n",
        "      print(\"No dividas un entero con un string\")"
      ],
      "metadata": {
        "id": "wwqVREAzFqcq"
      },
      "execution_count": null,
      "outputs": []
    },
    {
      "cell_type": "code",
      "source": [
        "division(5,0)"
      ],
      "metadata": {
        "colab": {
          "base_uri": "https://localhost:8080/"
        },
        "id": "vgODWGWMGi_e",
        "outputId": "2b341537-394e-48b5-e946-930d3325ea9d"
      },
      "execution_count": null,
      "outputs": [
        {
          "output_type": "stream",
          "name": "stdout",
          "text": [
            "No se puede dividir por cero\n"
          ]
        }
      ]
    },
    {
      "cell_type": "code",
      "source": [
        "division(2,\"Ceci\")"
      ],
      "metadata": {
        "colab": {
          "base_uri": "https://localhost:8080/"
        },
        "id": "uQlxL6FBGm71",
        "outputId": "2dabe800-385a-449c-a72d-3d08100e9476"
      },
      "execution_count": null,
      "outputs": [
        {
          "output_type": "stream",
          "name": "stdout",
          "text": [
            "No dividas un entero con un string\n"
          ]
        }
      ]
    },
    {
      "cell_type": "code",
      "source": [
        "division(2,4)"
      ],
      "metadata": {
        "colab": {
          "base_uri": "https://localhost:8080/"
        },
        "id": "DDFXzDIqIaB5",
        "outputId": "38f3d4c1-dc92-4492-f6d0-462e57332c68"
      },
      "execution_count": null,
      "outputs": [
        {
          "output_type": "stream",
          "name": "stdout",
          "text": [
            "Resultado de la division: 0.5\n"
          ]
        }
      ]
    },
    {
      "cell_type": "code",
      "execution_count": null,
      "metadata": {
        "id": "nQf7BAmXA_xK"
      },
      "outputs": [],
      "source": [
        "def calcular_media(L):\n",
        "  z= sum(L)/len(L)\n",
        "  return z"
      ]
    },
    {
      "cell_type": "code",
      "source": [
        "calcular_media([17,19,25.0,-2])"
      ],
      "metadata": {
        "colab": {
          "base_uri": "https://localhost:8080/"
        },
        "id": "pcOJ5biXJurY",
        "outputId": "23292af0-b51f-41f4-dfca-637c5740d28b"
      },
      "execution_count": null,
      "outputs": [
        {
          "output_type": "execute_result",
          "data": {
            "text/plain": [
              "14.75"
            ]
          },
          "metadata": {},
          "execution_count": 15
        }
      ]
    },
    {
      "cell_type": "code",
      "source": [
        "assert(calcular_media([17,19,25.0,-2])==14.75)"
      ],
      "metadata": {
        "id": "-dxORDggJ-y5"
      },
      "execution_count": null,
      "outputs": []
    },
    {
      "cell_type": "code",
      "source": [],
      "metadata": {
        "id": "PFF6Z6hqKGyn"
      },
      "execution_count": null,
      "outputs": []
    }
  ]
}