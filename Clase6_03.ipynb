{
  "nbformat": 4,
  "nbformat_minor": 0,
  "metadata": {
    "colab": {
      "provenance": []
    },
    "kernelspec": {
      "name": "python3",
      "display_name": "Python 3"
    },
    "language_info": {
      "name": "python"
    }
  },
  "cells": [
    {
      "cell_type": "markdown",
      "source": [
        "##Funciones\n",
        "En Python, las cláusulas try y except se utilizan para manejar excepciones, es decir, para controlar errores que pueden ocurrir durante la ejecución de un programa."
      ],
      "metadata": {
        "id": "YGbYiQhf76kx"
      }
    },
    {
      "cell_type": "code",
      "source": [
        "try:\n",
        "    x = 5 / 0  # Esto generará un error (división por cero)\n",
        "except ZeroDivisionError:\n",
        "    print(\"No se puede dividir por cero.\")\n"
      ],
      "metadata": {
        "colab": {
          "base_uri": "https://localhost:8080/"
        },
        "id": "0KhGvmr98uh-",
        "outputId": "8ce796e4-2ed9-4f4a-ee56-70ada80934fb"
      },
      "execution_count": null,
      "outputs": [
        {
          "output_type": "stream",
          "name": "stdout",
          "text": [
            "No se puede dividir por cero.\n"
          ]
        }
      ]
    },
    {
      "cell_type": "markdown",
      "source": [
        "Raise: El uso de raise en Python permite generar (o \"lanzar\") excepciones de manera manual, es decir, puedes forzar que ocurra una excepción en el momento que lo necesites. Si, por ejemplo, detectas que algo no va bien en tu código, puedes lanzar una excepción específica para indicar el tipo de error que ocurrió.\n",
        "\n",
        "Value Error :En el caso de ValueError, esta excepción es comúnmente utilizada cuando una función recibe un argumento con el tipo de dato correcto, pero con un valor inapropiado."
      ],
      "metadata": {
        "id": "KbQDJMTL81rP"
      }
    },
    {
      "cell_type": "code",
      "source": [
        "def dividir(a, b):\n",
        "    if b == 0:\n",
        "        raise ValueError(\"No se puede dividir por cero.\")  # Lanza un ValueError si 'b' es 0\n",
        "    return a / b\n",
        "\n",
        "try:\n",
        "    resultado = dividir(10, 0)\n",
        "except ValueError as e:\n",
        "    print(f\"Error: {e}\")"
      ],
      "metadata": {
        "colab": {
          "base_uri": "https://localhost:8080/"
        },
        "id": "RolhwfHw9EKF",
        "outputId": "df7888bf-afcb-4a9d-ec98-bce1ffc68813"
      },
      "execution_count": null,
      "outputs": [
        {
          "output_type": "stream",
          "name": "stdout",
          "text": [
            "Error: No se puede dividir por cero.\n"
          ]
        }
      ]
    }
  ]
}