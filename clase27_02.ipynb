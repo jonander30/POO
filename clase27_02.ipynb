{
  "nbformat": 4,
  "nbformat_minor": 0,
  "metadata": {
    "colab": {
      "provenance": []
    },
    "kernelspec": {
      "name": "python3",
      "display_name": "Python 3"
    },
    "language_info": {
      "name": "python"
    }
  },
  "cells": [
    {
      "cell_type": "code",
      "execution_count": 2,
      "metadata": {
        "colab": {
          "base_uri": "https://localhost:8080/"
        },
        "id": "A3nCpPfa4sVb",
        "outputId": "06737534-3e85-4b8a-e662-ba83f1d71973"
      },
      "outputs": [
        {
          "output_type": "stream",
          "name": "stdout",
          "text": [
            "Hola mundo\n"
          ]
        }
      ],
      "source": [
        "print (\"Hola mundo\")"
      ]
    },
    {
      "cell_type": "code",
      "source": [
        "# Declara una variable y muestra su valor\n",
        "Jon=3\n",
        "Jon"
      ],
      "metadata": {
        "colab": {
          "base_uri": "https://localhost:8080/"
        },
        "id": "HfO7FxKO4-3V",
        "outputId": "60d959b9-2491-47bb-d626-e61dffc4f985"
      },
      "execution_count": 3,
      "outputs": [
        {
          "output_type": "execute_result",
          "data": {
            "text/plain": [
              "3"
            ]
          },
          "metadata": {},
          "execution_count": 3
        }
      ]
    },
    {
      "cell_type": "code",
      "source": [
        "# Solicita un numero e imprime su doble\n",
        "numero = int(input(\"Ingrese un numero: \"))\n",
        "doble = numero * 2\n",
        "print(\"El doble de\", numero, \"es\", doble)"
      ],
      "metadata": {
        "colab": {
          "base_uri": "https://localhost:8080/"
        },
        "id": "D4I2MzMB5GDP",
        "outputId": "2d710918-dbee-4c28-c34a-68c2828dfa3a"
      },
      "execution_count": 4,
      "outputs": [
        {
          "output_type": "stream",
          "name": "stdout",
          "text": [
            "Ingrese un numero: 2\n",
            "El doble de 2 es 4\n"
          ]
        }
      ]
    },
    {
      "cell_type": "code",
      "source": [
        "# Suma dos numero s y muestra el resultado\n",
        "numero1 = int(input(\"Ingrese el primer numero: \"))\n",
        "numero2 = int(input(\"Ingrese el segundo numero: \"))\n",
        "suma = numero1 + numero2\n",
        "print(\"La suma de\", numero1, \"y\", numero2, \"es\", suma)"
      ],
      "metadata": {
        "colab": {
          "base_uri": "https://localhost:8080/"
        },
        "id": "8u-71Zq_5SYC",
        "outputId": "e30a20b6-5d63-496b-cab9-1cff2389a9f1"
      },
      "execution_count": 5,
      "outputs": [
        {
          "output_type": "stream",
          "name": "stdout",
          "text": [
            "Ingrese el primer numero: 2\n",
            "Ingrese el segundo numero: 3\n",
            "La suma de 2 y 3 es 5\n"
          ]
        }
      ]
    },
    {
      "cell_type": "code",
      "source": [
        "# Muestra el primer y ultimo numero de una lista\n",
        "numeros = [1, 2, 3, 4, 5]\n",
        "primer_numero = numeros[0]\n",
        "ultimo_numero = numeros[4]\n",
        "print(\"El primer numero es:\", primer_numero)\n",
        "print(\"El ultimo numero es:\", ultimo_numero)"
      ],
      "metadata": {
        "colab": {
          "base_uri": "https://localhost:8080/"
        },
        "id": "9wmxf4WT5fNK",
        "outputId": "0b06e0eb-0ba7-472b-952d-e25e8f577087"
      },
      "execution_count": 9,
      "outputs": [
        {
          "output_type": "stream",
          "name": "stdout",
          "text": [
            "El primer numero es: 1\n",
            "El ultimo numero es: 5\n"
          ]
        }
      ]
    },
    {
      "cell_type": "code",
      "source": [
        " #Determina si un numero es par o impar\n",
        "numero = int(input(\"Ingrese un numero: \"))\n",
        "if numero % 2 == 0: # Changed 'Numero' to 'numero'\n",
        "   print(numero, \"es un numero par\")\n",
        "else:\n",
        "   print(numero, \"es un numero impar\")"
      ],
      "metadata": {
        "colab": {
          "base_uri": "https://localhost:8080/"
        },
        "id": "CVFr-NKW5yRP",
        "outputId": "3a8fa2ca-47e6-435d-fdd7-efad07ac2914"
      },
      "execution_count": 11,
      "outputs": [
        {
          "output_type": "stream",
          "name": "stdout",
          "text": [
            "Ingrese un numero: 3\n",
            "3 es un numero impar\n"
          ]
        }
      ]
    },
    {
      "cell_type": "code",
      "source": [
        "# Imprime los numeros del 1 al 10 usando un bucle\n",
        "for numero in range(1,11):\n",
        "    print(numero)"
      ],
      "metadata": {
        "colab": {
          "base_uri": "https://localhost:8080/"
        },
        "id": "wsE1i3W563P6",
        "outputId": "4c2aad3b-6c94-4750-f548-1e6d1e1c2888"
      },
      "execution_count": 13,
      "outputs": [
        {
          "output_type": "stream",
          "name": "stdout",
          "text": [
            "1\n",
            "2\n",
            "3\n",
            "4\n",
            "5\n",
            "6\n",
            "7\n",
            "8\n",
            "9\n",
            "10\n"
          ]
        }
      ]
    },
    {
      "cell_type": "code",
      "source": [
        "# Crea una funcion que devuelva el cuadrado de un numero\n",
        "def cuadrado(numero):\n",
        "    return numero ** 2\n",
        "numero = int(input(\"Ingrese un numero: \"))\n",
        "print(\"El cuadrado de\", numero, \"es\", cuadrado(numero))"
      ],
      "metadata": {
        "colab": {
          "base_uri": "https://localhost:8080/"
        },
        "id": "YIve_jBg7JsW",
        "outputId": "9ff1d407-653b-4063-a6ab-4023fd22eb8b"
      },
      "execution_count": 15,
      "outputs": [
        {
          "output_type": "stream",
          "name": "stdout",
          "text": [
            "Ingrese un numero: 5\n",
            "El cuadrado de 5 es 25\n"
          ]
        }
      ]
    },
    {
      "cell_type": "code",
      "source": [
        "# Cuenta cuantas vocales tiene un texto\n",
        "texto = input(\"Ingrese un texto: \")\n",
        "vocales = \"aeiou\"\n",
        "contador = 0\n",
        "for letra in texto:\n",
        "    if letra in vocales:\n",
        "        contador += 1\n",
        "print(\"El texto tiene\", contador, \"vocales\")"
      ],
      "metadata": {
        "colab": {
          "base_uri": "https://localhost:8080/"
        },
        "id": "j1YZ4xgM75P6",
        "outputId": "b88be704-3e18-40fc-8815-38380ded3fbd"
      },
      "execution_count": 17,
      "outputs": [
        {
          "output_type": "stream",
          "name": "stdout",
          "text": [
            "Ingrese un texto: jon\n",
            "El texto tiene 1 vocales\n"
          ]
        }
      ]
    },
    {
      "cell_type": "code",
      "source": [
        "# Muestra los numeros pares de una lista\n",
        "Pares= { i for i in range (21) if i%2==0}\n",
        "Pares"
      ],
      "metadata": {
        "colab": {
          "base_uri": "https://localhost:8080/"
        },
        "id": "-ggHn10x8MUv",
        "outputId": "8f827f2c-be20-4c0c-82f8-d29b94168d7a"
      },
      "execution_count": 19,
      "outputs": [
        {
          "output_type": "execute_result",
          "data": {
            "text/plain": [
              "{0, 2, 4, 6, 8, 10, 12, 14, 16, 18, 20}"
            ]
          },
          "metadata": {},
          "execution_count": 19
        }
      ]
    },
    {
      "cell_type": "code",
      "source": [
        "# Muestra la edad de una persona en un diccionario\n",
        "Diccionario= {\"Alvaro\":[18], \"Ceci\":[19], \"Jon\":[19]}\n",
        "Diccionario[\"Jon\"]"
      ],
      "metadata": {
        "colab": {
          "base_uri": "https://localhost:8080/"
        },
        "id": "1Y4yWswo8dx8",
        "outputId": "c0dae3da-6df9-42bf-a7e6-4e74b93b9f6e"
      },
      "execution_count": 30,
      "outputs": [
        {
          "output_type": "execute_result",
          "data": {
            "text/plain": [
              "[19]"
            ]
          },
          "metadata": {},
          "execution_count": 30
        }
      ]
    },
    {
      "cell_type": "code",
      "source": [
        "# Encuentra el numero grande en una lista\n",
        "numeros = input(\"Ingrese una lista de numeros separados por comas: \")\n",
        "numeros = [int(numero) for numero in numeros.split(\",\")]\n",
        "numero_grande = max(numeros)\n",
        "print(\"El numero mas grande es:\", numero_grande)"
      ],
      "metadata": {
        "colab": {
          "base_uri": "https://localhost:8080/"
        },
        "id": "SINyMOgR9bJ2",
        "outputId": "47f6319c-d869-4c12-9d63-aebf9a083867"
      },
      "execution_count": 21,
      "outputs": [
        {
          "output_type": "stream",
          "name": "stdout",
          "text": [
            "Ingrese una lista de numeros separados por comas: 2, 3,4,56,7,8\n",
            "El numero mas grande es: 56\n"
          ]
        }
      ]
    },
    {
      "cell_type": "code",
      "source": [
        "# Calcula el promedio de una lista de numeros\n",
        "numeros = input(\"Ingrese una lista de numeros separados por comas: \")\n",
        "numeros = [int(numero) for numero in numeros.split(\",\")]\n",
        "promedio = sum(numeros) / len(numeros)\n",
        "print(\"El promedio de la lista es:\", promedio)"
      ],
      "metadata": {
        "colab": {
          "base_uri": "https://localhost:8080/"
        },
        "id": "wxS8q_7W-8YV",
        "outputId": "9f0a6046-8fd5-4556-de44-1f96ad1c0ddc"
      },
      "execution_count": 23,
      "outputs": [
        {
          "output_type": "stream",
          "name": "stdout",
          "text": [
            "Ingrese una lista de numeros separados por comas: 6543,654\n",
            "El promedio de la lista es: 3598.5\n"
          ]
        }
      ]
    },
    {
      "cell_type": "code",
      "source": [
        "# Verifica si una palabra es un palindromo\n",
        "string =input(\"Ingrese una palabra:\")\n",
        "if string == string[::-1]:\n",
        "    print(\"Es un palindromo\")\n",
        "else:\n",
        "    print(\"No es un palindromo\")"
      ],
      "metadata": {
        "colab": {
          "base_uri": "https://localhost:8080/"
        },
        "id": "dClZCeH7_8RL",
        "outputId": "ac220e99-e3a5-42da-c953-001cfb433050"
      },
      "execution_count": 24,
      "outputs": [
        {
          "output_type": "stream",
          "name": "stdout",
          "text": [
            "Ingrese una palabra:jon\n",
            "No es un palindromo\n"
          ]
        }
      ]
    },
    {
      "cell_type": "code",
      "source": [
        "#Crea una funcion que tome dos numeros y devuelva el mayor\n",
        "def mayor(a, b):\n",
        "    if a > b:\n",
        "        return a\n",
        "    else:\n",
        "        return b"
      ],
      "metadata": {
        "id": "BTvFiQkQA8tu"
      },
      "execution_count": 27,
      "outputs": []
    },
    {
      "cell_type": "code",
      "source": [
        "mayor(3,4)"
      ],
      "metadata": {
        "colab": {
          "base_uri": "https://localhost:8080/"
        },
        "id": "ozWK4UU4Cb1C",
        "outputId": "9250ff39-2f07-4d2d-9903-efa83b3717ab"
      },
      "execution_count": 28,
      "outputs": [
        {
          "output_type": "execute_result",
          "data": {
            "text/plain": [
              "4"
            ]
          },
          "metadata": {},
          "execution_count": 28
        }
      ]
    },
    {
      "cell_type": "code",
      "source": [
        "# Genera la tabla de multiplicar de un numero\n",
        "numero = int(input(\"Ingrese un numero: \"))\n",
        "for i in range(1,11):\n",
        "    print(numero, \"x\", i, \"=\", numero*i)"
      ],
      "metadata": {
        "colab": {
          "base_uri": "https://localhost:8080/"
        },
        "id": "qGih41MCBT6G",
        "outputId": "b6a127f5-d51d-427c-e08e-c4b1471d2940"
      },
      "execution_count": 26,
      "outputs": [
        {
          "output_type": "stream",
          "name": "stdout",
          "text": [
            "Ingrese un numero: 1\n",
            "1 x 1 = 1\n",
            "1 x 2 = 2\n",
            "1 x 3 = 3\n",
            "1 x 4 = 4\n",
            "1 x 5 = 5\n",
            "1 x 6 = 6\n",
            "1 x 7 = 7\n",
            "1 x 8 = 8\n",
            "1 x 9 = 9\n",
            "1 x 10 = 10\n"
          ]
        }
      ]
    },
    {
      "cell_type": "code",
      "source": [
        "#Crea una funcion que devuelva los numeros primos hasta un numero dado.\n"
      ],
      "metadata": {
        "id": "9l4wM6WCBdDB"
      },
      "execution_count": 36,
      "outputs": []
    },
    {
      "cell_type": "code",
      "source": [
        "# Ordena una lista de numeros manualmente\n"
      ],
      "metadata": {
        "id": "YrcbaVpRB6x9"
      },
      "execution_count": 38,
      "outputs": []
    },
    {
      "cell_type": "code",
      "source": [
        "# Juego de adivinar el numero secreto entre 1 y 100\n"
      ],
      "metadata": {
        "id": "Wt-RhkaGCCSq"
      },
      "execution_count": null,
      "outputs": []
    }
  ]
}