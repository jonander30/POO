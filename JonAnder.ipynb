{
  "nbformat": 4,
  "nbformat_minor": 0,
  "metadata": {
    "colab": {
      "provenance": []
    },
    "kernelspec": {
      "name": "python3",
      "display_name": "Python 3"
    },
    "language_info": {
      "name": "python"
    }
  },
  "cells": [
    {
      "cell_type": "markdown",
      "source": [
        "Nota: En este procesador de texto se puede escribir en html y en latex, por ejemplo vamos a escribir a la ecuacion mas hermosa\n",
        "$$e^{i\\pi}+1=0$$"
      ],
      "metadata": {
        "id": "bK-bTWoWt63q"
      }
    },
    {
      "cell_type": "markdown",
      "source": [
        "#Introduccion a Python\n",
        "Como funciona google colab, operaciones basicas en python\n",
        "## ¿Que veremos hoy?\n",
        "\n",
        "\n",
        "1.   Objetos\n",
        "2.   Variables\n",
        "3.   Ejemplos\n",
        "\n",
        "\n",
        "\n"
      ],
      "metadata": {
        "id": "gKn4VFYmqPeU"
      }
    },
    {
      "cell_type": "code",
      "source": [
        "#Si se escribe \"print \"texto\" \" no apareceran comillas en un texto impreso pero si solo escribimos y ponemos \"texto\" se pondran 'texto'\n",
        "print (\"Hola mundo\")\n",
        "\"jon\""
      ],
      "metadata": {
        "colab": {
          "base_uri": "https://localhost:8080/",
          "height": 53
        },
        "id": "zP5RgKSv-OFu",
        "outputId": "b886046b-7cea-4fe9-98be-b0273e9dda44"
      },
      "execution_count": 3,
      "outputs": [
        {
          "output_type": "stream",
          "name": "stdout",
          "text": [
            "Hola mundo\n"
          ]
        },
        {
          "output_type": "execute_result",
          "data": {
            "text/plain": [
              "'jon'"
            ],
            "application/vnd.google.colaboratory.intrinsic+json": {
              "type": "string"
            }
          },
          "metadata": {},
          "execution_count": 3
        }
      ]
    },
    {
      "cell_type": "markdown",
      "source": [
        "### Algunos objetos en Python\n",
        "\n",
        "\n",
        "1.   int y float (enteros y flotantes)\n",
        "2.   str (\"string\")\n",
        "3.   Conjuntos y Listas\n",
        "---\n",
        "**La funcion funcion `print` y la funcion `type`**\n"
      ],
      "metadata": {
        "id": "QJa-Umis6lRh"
      }
    },
    {
      "cell_type": "markdown",
      "source": [
        "### Operacion basicas en int o flotantes\n",
        "* $+,-$ Suma y resta\n",
        "* $ *,/, ** $ Multiplicacion, division y potenciacion\n",
        "* $\\%$ Operacion modular\n",
        "* $//$ Division al piso"
      ],
      "metadata": {
        "id": "f2lT9XijAaFj"
      }
    },
    {
      "cell_type": "code",
      "source": [
        "print(f\"suma entre {x} y {y} es {x+y}\")\n",
        "print(f\"resta entre {x} y {y} es {x-y}\")\n",
        "print(f\"multiplicacion entre {x} y {y} es {x*y}\")\n",
        "print(f\"division entre {x} y {y} es {x/y}\")\n",
        "print(f\"potenciacion entre {x} y {y} es {x**y}\")\n",
        "print(f\"modulo entre {x} y {y} es {x%y}\")\n",
        "print(f\"division al piso entre {x} y {y} es {x//y}\")"
      ],
      "metadata": {
        "colab": {
          "base_uri": "https://localhost:8080/"
        },
        "id": "5j9Mi0X1H0N8",
        "outputId": "e1cf7772-3a1c-497f-946e-3ffff3b802a3"
      },
      "execution_count": 10,
      "outputs": [
        {
          "output_type": "stream",
          "name": "stdout",
          "text": [
            "suma entre 7 y 3 es 10\n",
            "resta entre 7 y 3 es 4\n",
            "multiplicacion entre 7 y 3 es 21\n",
            "division entre 7 y 3 es 2.3333333333333335\n",
            "potenciacion entre 7 y 3 es 343\n",
            "modulo entre 7 y 3 es 1\n",
            "division al piso entre 7 y 3 es 2\n"
          ]
        }
      ]
    },
    {
      "cell_type": "code",
      "source": [
        "#vamos a crear 2 variables\n",
        "x=7\n",
        "y=3"
      ],
      "metadata": {
        "id": "K6QXVQhUFzTJ"
      },
      "execution_count": 7,
      "outputs": []
    },
    {
      "cell_type": "code",
      "source": [
        "#La funcion type nos dice el tipo de objeto\n",
        "type(x/y), type(\"jon\")"
      ],
      "metadata": {
        "colab": {
          "base_uri": "https://localhost:8080/"
        },
        "id": "lN1wld2MI6z6",
        "outputId": "d33d8c57-ac1c-473f-8571-70b2729c125f"
      },
      "execution_count": 11,
      "outputs": [
        {
          "output_type": "execute_result",
          "data": {
            "text/plain": [
              "(float, str)"
            ]
          },
          "metadata": {},
          "execution_count": 11
        }
      ]
    },
    {
      "cell_type": "markdown",
      "source": [
        "**Creacion de variables**\n",
        "\n",
        "nombre = objeto"
      ],
      "metadata": {
        "id": "MOYGkgfqFRdS"
      }
    },
    {
      "cell_type": "markdown",
      "source": [
        "Otro ejemplo\n",
        "Matriz con corchetes:\n",
        " $$\n",
        " \\begin{bmatrix}\n",
        " 1 & 2 & 3 \\\\\n",
        " 4 & 5 & 6 \\\\\n",
        " 7 & 8 & 9\n",
        " \\end{bmatrix}\n",
        " $$\n",
        "\n",
        " Matriz con llaves:\n",
        " $$\n",
        " \\begin{Bmatrix}\n",
        " 1 & 2 \\\\\n",
        " 3 & 4\n",
        " \\end{Bmatrix}\n",
        " $$\n",
        " Matriz con barras verticales:\n",
        " $$\n",
        " \\begin{vmatrix}\n",
        " a & b \\\\\n",
        " c & d\n",
        " \\end{vmatrix}\n",
        " $$\n",
        "\n",
        " Matriz con doble barra vertical:\n",
        " $$\n",
        " \\begin{Vmatrix}\n",
        " a & b \\\\\n",
        " c & d\n",
        " \\end{Vmatrix}\n",
        " $$\n"
      ],
      "metadata": {
        "id": "L0FTPs68xZaj"
      }
    }
  ]
}